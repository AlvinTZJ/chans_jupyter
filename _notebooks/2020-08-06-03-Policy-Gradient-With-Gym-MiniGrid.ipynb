{
 "cells": [
  {
   "cell_type": "markdown",
   "metadata": {},
   "source": [
    "# Policy Gradient with gym-MiniGrid\n",
    "> In this session, it will show the pytorch-implemented Policy Gradient in Gym-MiniGrid Environment.  Through this, you will know how to implement Vanila Policy Gradient (also known as REINFORCE), and test it on open source RL environment.\n",
    "\n",
    "- toc: true \n",
    "- badges: true\n",
    "- comments: true\n",
    "- author: Chanseok Kang\n",
    "- categories: [Python, Reinforcement Learning]\n",
    "- image: "
   ]
  },
  {
   "cell_type": "markdown",
   "metadata": {},
   "source": [
    "## Basic Jupyter Setting"
   ]
  },
  {
   "cell_type": "code",
   "execution_count": 3,
   "metadata": {},
   "outputs": [
    {
     "name": "stdout",
     "output_type": "stream",
     "text": [
      "The autoreload extension is already loaded. To reload it, use:\n",
      "  %reload_ext autoreload\n"
     ]
    }
   ],
   "source": [
    "import numpy as np\n",
    "import matplotlib.pyplot as plt\n",
    "from pprint import pprint\n",
    "\n",
    "%matplotlib inline\n",
    "plt.rcParams['figure.figsize'] = (10.0, 8.0) # set default size of plots\n",
    "plt.rcParams['image.interpolation'] = 'nearest'\n",
    "plt.rcParams['image.cmap'] = 'gray'\n",
    "\n",
    "# for auto-reloading external modules\n",
    "# see http://stackoverflow.com/questions/1907993/autoreload-of-modules-in-ipython\n",
    "%load_ext autoreload\n",
    "%autoreload 2"
   ]
  },
  {
   "cell_type": "markdown",
   "metadata": {},
   "source": [
    "## Setup the environment\n",
    "Gridworld is widely used in RL environment. [Gym-MiniGrid](https://github.com/maximecb/gym-minigrid) is custom GridWorld environment of OpenAI [gym](https://github.com/openai/gym) style. Before dive in this environment, you need to install both of them.\n",
    "```\n",
    "pip install gym\n",
    "pip install gym-minigrid \n",
    "```\n",
    "At first, Let's look at some frames of MiniGrid."
   ]
  },
  {
   "cell_type": "code",
   "execution_count": 2,
   "metadata": {},
   "outputs": [
    {
     "data": {
      "image/png": "[encoded data removed]",
      "text/plain": [
       "<Figure size 720x576 with 1 Axes>"
      ]
     },
     "metadata": {
      "needs_background": "light"
     },
     "output_type": "display_data"
    }
   ],
   "source": [
    "import gym\n",
    "import gym_minigrid\n",
    "\n",
    "env = gym.make('MiniGrid-Empty-5x5-v0')\n",
    "env.reset()\n",
    "before_img = env.render('rgb_array')\n",
    "action = env.actions.forward\n",
    "obs, reward, done, info = env.step(action)\n",
    "after_img = env.render('rgb_array')\n",
    "\n",
    "plt.imshow(np.concatenate([before_img, after_img], 1));"
   ]
  },
  {
   "cell_type": "markdown",
   "metadata": {},
   "source": [
    "This is the example of `MiniGrid-Empty-5x5-v0` environment. There are some blank cells, and gray obstacle which the agent cannot pass it. And the green cell is the goal to reach. The ultimate goal of this environment (and most of RL problem) is to find the optimal policy with highest reward. In this case, well-trained agent should find the optimal path to reach the goal.\n",
    "\n",
    "Let's move to more larger environment `MiniGrid-Empty-8x8-v0`, and find the information what we can get."
   ]
  },
  {
   "cell_type": "code",
   "execution_count": 11,
   "metadata": {},
   "outputs": [
    {
     "name": "stdout",
     "output_type": "stream",
     "text": [
      "Observation: {'image': array([[[2, 5, 0],\n",
      "        [1, 0, 0],\n",
      "        [1, 0, 0],\n",
      "        [1, 0, 0],\n",
      "        [1, 0, 0],\n",
      "        [1, 0, 0],\n",
      "        [1, 0, 0]],\n",
      "\n",
      "       [[2, 5, 0],\n",
      "        [1, 0, 0],\n",
      "        [1, 0, 0],\n",
      "        [1, 0, 0],\n",
      "        [1, 0, 0],\n",
      "        [1, 0, 0],\n",
      "        [1, 0, 0]],\n",
      "\n",
      "       [[2, 5, 0],\n",
      "        [1, 0, 0],\n",
      "        [1, 0, 0],\n",
      "        [1, 0, 0],\n",
      "        [1, 0, 0],\n",
      "        [1, 0, 0],\n",
      "        [1, 0, 0]],\n",
      "\n",
      "       [[2, 5, 0],\n",
      "        [1, 0, 0],\n",
      "        [1, 0, 0],\n",
      "        [1, 0, 0],\n",
      "        [1, 0, 0],\n",
      "        [1, 0, 0],\n",
      "        [1, 0, 0]],\n",
      "\n",
      "       [[2, 5, 0],\n",
      "        [2, 5, 0],\n",
      "        [2, 5, 0],\n",
      "        [2, 5, 0],\n",
      "        [2, 5, 0],\n",
      "        [2, 5, 0],\n",
      "        [2, 5, 0]],\n",
      "\n",
      "       [[2, 5, 0],\n",
      "        [2, 5, 0],\n",
      "        [2, 5, 0],\n",
      "        [2, 5, 0],\n",
      "        [2, 5, 0],\n",
      "        [2, 5, 0],\n",
      "        [2, 5, 0]],\n",
      "\n",
      "       [[2, 5, 0],\n",
      "        [2, 5, 0],\n",
      "        [2, 5, 0],\n",
      "        [2, 5, 0],\n",
      "        [2, 5, 0],\n",
      "        [2, 5, 0],\n",
      "        [2, 5, 0]]], dtype=uint8), 'direction': 1, 'mission': 'get to the green goal square'}\n",
      "Reward: 0\n",
      "Done: False\n",
      "Info: {}\n",
      "Image shape: (256, 256, 3)\n"
     ]
    },
    {
     "data": {
      "image/png": "[encoded data removed]",
      "text/plain": [
       "<Figure size 720x576 with 1 Axes>"
      ]
     },
     "metadata": {
      "needs_background": "light"
     },
     "output_type": "display_data"
    }
   ],
   "source": [
    "# Make a new environment MiniGrid-Empty-8x8-v0\n",
    "env = gym.make('MiniGrid-Empty-8x8-v0')\n",
    "\n",
    "# Reset the environment\n",
    "env.reset()\n",
    "\n",
    "# Select the action right (sample action)\n",
    "action = env.actions.right\n",
    "\n",
    "# Take a step in the environment and store it in appropriate variables\n",
    "obs, reward, done, info = env.step(action)\n",
    "\n",
    "# Render the current state of the environment\n",
    "img = env.render('rgb_array')\n",
    "\n",
    "print('Observation:', obs)\n",
    "print('Reward:', reward)\n",
    "print('Done:', done)\n",
    "print('Info:', info)\n",
    "print('Image shape:', img.shape)\n",
    "plt.imshow(img);"
   ]
  },
  {
   "cell_type": "markdown",
   "metadata": {},
   "source": [
    "As the agent take an action, environment (MiniGrid) will be changed with respect to action. \n",
    "If the agent want to find the optimal path, the agent should notice the difference between current state and next state while taking an action. To help this, the environment generates next state, reward, and terminal flags.\n",
    "\n",
    "Some helper function offers to render the sample action in Jupyter Notebook."
   ]
  },
  {
   "cell_type": "code",
   "execution_count": 12,
   "metadata": {},
   "outputs": [],
   "source": [
    "import base64\n",
    "import glob\n",
    "import io\n",
    "from IPython.display import HTML\n",
    "from IPython import display \n",
    "\n",
    "def show_video():\n",
    "    mp4list = glob.glob('video/*.mp4')\n",
    "    if len(mp4list) > 0:\n",
    "        mp4 = mp4list[0]\n",
    "        video = io.open(mp4, 'r+b').read()\n",
    "        encoded = base64.b64encode(video)\n",
    "        display.display(HTML(data='''<video alt=\"test\" autoplay \n",
    "                loop controls style=\"height: 400px;\">\n",
    "                <source src=\"data:video/mp4;base64,{0}\" type=\"video/mp4\" />\n",
    "             </video>'''.format(encoded.decode('ascii'))))\n",
    "    else:\n",
    "        print(\"Could not find video\")"
   ]
  },
  {
   "cell_type": "markdown",
   "metadata": {},
   "source": [
    "To help agent training easily, MiniGrid offers `FlatObsWrapper` for flattening observation (in other words, 1D array)"
   ]
  },
  {
   "cell_type": "code",
   "execution_count": 13,
   "metadata": {},
   "outputs": [],
   "source": [
    "import gym\n",
    "from gym import spaces\n",
    "from gym_minigrid.minigrid import OBJECT_TO_IDX, COLOR_TO_IDX\n",
    "\n",
    "max_env_steps = 50\n",
    "\n",
    "class FlatObsWrapper(gym.core.ObservationWrapper):\n",
    "    \"\"\"Fully observable gridworld returning a flat grid encoding.\"\"\"\n",
    "\n",
    "    def __init__(self, env):\n",
    "        super().__init__(env)\n",
    "\n",
    "        # Since the outer walls are always present, we remove left, right, top, bottom walls\n",
    "        # from the observation space of the agent. There are 3 channels, but for simplicity\n",
    "        # in this assignment, we will deal with flattened version of state.\n",
    "        \n",
    "        self.observation_space = spaces.Box(\n",
    "            low=0,\n",
    "            high=255,\n",
    "            shape=((self.env.width-2) * (self.env.height-2) * 3,),  # number of cells\n",
    "            dtype='uint8'\n",
    "        )\n",
    "        self.unwrapped.max_steps = max_env_steps\n",
    "\n",
    "    def observation(self, obs):\n",
    "        # this method is called in the step() function to get the observation\n",
    "        # we provide code that gets the grid state and places the agent in it\n",
    "        env = self.unwrapped\n",
    "        full_grid = env.grid.encode()\n",
    "        full_grid[env.agent_pos[0]][env.agent_pos[1]] = np.array([\n",
    "            OBJECT_TO_IDX['agent'],\n",
    "            COLOR_TO_IDX['red'],\n",
    "            env.agent_dir\n",
    "        ])\n",
    "        full_grid = full_grid[1:-1, 1:-1]   # remove outer walls of the environment (for efficiency)\n",
    "        \n",
    "        flattened_grid = full_grid.ravel()\n",
    "        return flattened_grid\n",
    "    \n",
    "    def render(self, *args, **kwargs):\n",
    "        \"\"\"This removes the default visualization of the partially observable field of view.\"\"\"\n",
    "        kwargs['highlight'] = False\n",
    "        return self.unwrapped.render(*args, **kwargs)"
   ]
  },
  {
   "cell_type": "markdown",
   "metadata": {},
   "source": [
    "So It's time to run with sample action!"
   ]
  },
  {
   "cell_type": "code",
   "execution_count": 14,
   "metadata": {},
   "outputs": [
    {
     "name": "stdout",
     "output_type": "stream",
     "text": [
      "Observation: [10  0  1  1  0  0  1  0  0  1  0  0  1  0  0  1  0  0  1  0  0  1  0  0\n",
      "  1  0  0  1  0  0  1  0  0  1  0  0  1  0  0  1  0  0  1  0  0  1  0  0\n",
      "  1  0  0  1  0  0  1  0  0  1  0  0  1  0  0  1  0  0  1  0  0  1  0  0\n",
      "  1  0  0  1  0  0  1  0  0  1  0  0  1  0  0  1  0  0  1  0  0  1  0  0\n",
      "  1  0  0  1  0  0  1  0  0  8  1  0] , Observation Shape:  (108,)\n",
      "Reward: 0\n",
      "Done: False\n",
      "Info: {}\n",
      "Image shape: (256, 256, 3)\n"
     ]
    },
    {
     "data": {
      "image/png": "[encoded data removed]",
      "text/plain": [
       "<Figure size 720x576 with 1 Axes>"
      ]
     },
     "metadata": {
      "needs_background": "light"
     },
     "output_type": "display_data"
    }
   ],
   "source": [
    "# Convert MiniGrid Environment with Flat Observable \n",
    "env = FlatObsWrapper(gym.make('MiniGrid-Empty-8x8-v0'))\n",
    "\n",
    "# Reset the environment\n",
    "env.reset()\n",
    "\n",
    "# Select the action right\n",
    "action = env.actions.right\n",
    "\n",
    "# Take a step in the environment and store it in appropriate variables\n",
    "obs, reward, done, info = env.step(action)\n",
    "\n",
    "# Render the current state of the environment\n",
    "img = env.render('rgb_array')\n",
    "################# YOUR CODE ENDS HERE ###############################\n",
    "\n",
    "print('Observation:', obs, ', Observation Shape: ', obs.shape)\n",
    "print('Reward:', reward)\n",
    "print('Done:', done)\n",
    "print('Info:', info)\n",
    "print('Image shape:', img.shape)\n",
    "plt.imshow(img);"
   ]
  },
  {
   "cell_type": "markdown",
   "metadata": {},
   "source": [
    "As you can see it in observation, the dimension of observation is changed from 2D to 1D. Using this observation, we will make some kind of neural network to help agent to notice the observation. Let's check the real-time video of random movement."
   ]
  },
  {
   "cell_type": "code",
   "execution_count": 15,
   "metadata": {},
   "outputs": [],
   "source": [
    "from gym.wrappers import Monitor\n",
    "\n",
    "# Monitor is a gym wrapper, which helps easy rendering of videos of the wrapped environment.\n",
    "def wrap_env(env):\n",
    "    env = Monitor(env, './video', force=True)\n",
    "    return env\n",
    "\n",
    "def gen_wrapped_env(env_name):\n",
    "    return wrap_env(FlatObsWrapper(gym.make(env_name)))"
   ]
  },
  {
   "cell_type": "markdown",
   "metadata": {},
   "source": [
    "Currently, OpenAI Gym offers several utils to help understanding the training progress. Monitor is one of that tool to log the history data. If we set the rendering option to `rgb_array`, the video data will be stored in specific path. (Maybe it requires some additional apps such as ffmpeg)"
   ]
  },
  {
   "cell_type": "code",
   "execution_count": 17,
   "metadata": {},
   "outputs": [],
   "source": [
    "# Random agent - we only use it in this cell for demonstration\n",
    "class RandPolicy:\n",
    "    def __init__(self, action_space):\n",
    "        self.action_space = action_space\n",
    "        \n",
    "    def act(self, *unused_args):\n",
    "        return self.action_space.sample(), None\n",
    "\n"
   ]
  },
  {
   "cell_type": "markdown",
   "metadata": {},
   "source": [
    "At first, we want check the operation of environment-agent interaction. To do this, Random Policy that generates the \"random action\" is defined. This policy just generates random action from pre-defined action space. And then run it. \n",
    "> Note that `pytorch_policy` flag is set to `False` as a default. But to implement the policy gradient, the gradient calculation is required, and pytorch will be used."
   ]
  },
  {
   "cell_type": "code",
   "execution_count": 18,
   "metadata": {},
   "outputs": [
    {
     "name": "stdout",
     "output_type": "stream",
     "text": [
      "Total reward: 0\n",
      "Total length: 50\n"
     ]
    },
    {
     "data": {
      "text/html": [
       "<video alt=\"test\" autoplay \n",
       "                loop controls style=\"height: 400px;\">\n",
       "                <source src=\"data:video/mp4;base64,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\" type=\"video/mp4\" />\n",
       "             </video>"
      ],
      "text/plain": [
       "<IPython.core.display.HTML object>"
      ]
     },
     "metadata": {},
     "output_type": "display_data"
    }
   ],
   "source": [
    "# This function plots videos of rollouts (episodes) of a given policy and environment\n",
    "def log_policy_rollout(policy, env_name, pytorch_policy=False):\n",
    "    # Create environment with flat observation\n",
    "    env = gen_wrapped_env(env_name)\n",
    "\n",
    "    # Initialize environment\n",
    "    observation = env.reset()\n",
    "\n",
    "    done = False\n",
    "    episode_reward = 0\n",
    "    episode_length = 0\n",
    "\n",
    "    # Run until done == True\n",
    "    while not done:\n",
    "      # Take a step\n",
    "        if pytorch_policy: \n",
    "            observation = torch.tensor(observation, dtype=torch.float32)\n",
    "            action = policy.act(observation)[0].data.cpu().numpy()\n",
    "        else:\n",
    "            action = policy.act(observation)[0]\n",
    "        observation, reward, done, info = env.step(action)\n",
    "\n",
    "        episode_reward += reward\n",
    "        episode_length += 1\n",
    "\n",
    "    print('Total reward:', episode_reward)\n",
    "    print('Total length:', episode_length)\n",
    "\n",
    "    env.close()\n",
    "    \n",
    "    show_video()\n",
    "\n",
    "# Test that the logging function is working\n",
    "test_env_name = 'MiniGrid-Empty-8x8-v0'\n",
    "rand_policy = RandPolicy(FlatObsWrapper(gym.make(test_env_name)).action_space)\n",
    "log_policy_rollout(rand_policy, test_env_name)"
   ]
  },
  {
   "cell_type": "markdown",
   "metadata": {},
   "source": [
    "That's the agent work with Random Policy."
   ]
  }
 ],
 "metadata": {
  "kernelspec": {
   "display_name": "Python 3",
   "language": "python",
   "name": "python3"
  },
  "language_info": {
   "codemirror_mode": {
    "name": "ipython",
    "version": 3
   },
   "file_extension": ".py",
   "mimetype": "text/x-python",
   "name": "python",
   "nbconvert_exporter": "python",
   "pygments_lexer": "ipython3",
   "version": "3.7.6"
  }
 },
 "nbformat": 4,
 "nbformat_minor": 4
}
