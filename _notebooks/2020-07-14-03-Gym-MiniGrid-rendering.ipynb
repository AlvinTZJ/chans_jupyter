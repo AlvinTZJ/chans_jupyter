{
 "cells": [
  {
   "cell_type": "markdown",
   "metadata": {},
   "source": [
    "# Gym-MiniGrid rendering\n",
    "> This is the sample for gym-Minigrid\n",
    "\n",
    "- toc: true \n",
    "- badges: true\n",
    "- comments: true\n",
    "- author: Chanseok Kang\n",
    "- categories: [Python, Gym, Reinforcement Learning]\n",
    "- image: "
   ]
  },
  {
   "cell_type": "code",
   "execution_count": 4,
   "metadata": {},
   "outputs": [
    {
     "name": "stdout",
     "output_type": "stream",
     "text": [
      "The autoreload extension is already loaded. To reload it, use:\n",
      "  %reload_ext autoreload\n"
     ]
    }
   ],
   "source": [
    "import numpy as np\n",
    "import matplotlib.pyplot as plt\n",
    "\n",
    "%matplotlib inline\n",
    "plt.rcParams['figure.figsize'] = (10.0, 8.0) # set default size of plots\n",
    "plt.rcParams['image.interpolation'] = 'nearest'\n",
    "plt.rcParams['image.cmap'] = 'gray'\n",
    "\n",
    "# for auto-reloading external modules\n",
    "# see http://stackoverflow.com/questions/1907993/autoreload-of-modules-in-ipython\n",
    "%load_ext autoreload\n",
    "%autoreload 2"
   ]
  },
  {
   "cell_type": "code",
   "execution_count": 6,
   "metadata": {},
   "outputs": [
    {
     "data": {
      "image/png": "[encoded data removed]",
      "text/plain": [
       "<Figure size 720x576 with 1 Axes>"
      ]
     },
     "metadata": {
      "needs_background": "light"
     },
     "output_type": "display_data"
    }
   ],
   "source": [
    "import gym\n",
    "import gym_minigrid\n",
    "import matplotlib.pyplot as plt\n",
    "\n",
    "env = gym.make('MiniGrid-Empty-5x5-v0')\n",
    "env.reset()\n",
    "before_img = env.render('rgb_array')\n",
    "action = env.actions.forward\n",
    "obs, reward, done, info = env.step(action)\n",
    "after_img = env.render('rgb_array')\n",
    "\n",
    "plt.imshow(np.concatenate([before_img, after_img], 1));"
   ]
  },
  {
   "cell_type": "code",
   "execution_count": 7,
   "metadata": {},
   "outputs": [
    {
     "name": "stdout",
     "output_type": "stream",
     "text": [
      "Observation: {'image': array([[[2, 5, 0],\n",
      "        [1, 0, 0],\n",
      "        [1, 0, 0],\n",
      "        [1, 0, 0],\n",
      "        [1, 0, 0],\n",
      "        [1, 0, 0],\n",
      "        [1, 0, 0]],\n",
      "\n",
      "       [[2, 5, 0],\n",
      "        [1, 0, 0],\n",
      "        [1, 0, 0],\n",
      "        [1, 0, 0],\n",
      "        [1, 0, 0],\n",
      "        [1, 0, 0],\n",
      "        [1, 0, 0]],\n",
      "\n",
      "       [[2, 5, 0],\n",
      "        [1, 0, 0],\n",
      "        [1, 0, 0],\n",
      "        [1, 0, 0],\n",
      "        [1, 0, 0],\n",
      "        [1, 0, 0],\n",
      "        [1, 0, 0]],\n",
      "\n",
      "       [[2, 5, 0],\n",
      "        [1, 0, 0],\n",
      "        [1, 0, 0],\n",
      "        [1, 0, 0],\n",
      "        [1, 0, 0],\n",
      "        [1, 0, 0],\n",
      "        [1, 0, 0]],\n",
      "\n",
      "       [[2, 5, 0],\n",
      "        [2, 5, 0],\n",
      "        [2, 5, 0],\n",
      "        [2, 5, 0],\n",
      "        [2, 5, 0],\n",
      "        [2, 5, 0],\n",
      "        [2, 5, 0]],\n",
      "\n",
      "       [[2, 5, 0],\n",
      "        [2, 5, 0],\n",
      "        [2, 5, 0],\n",
      "        [2, 5, 0],\n",
      "        [2, 5, 0],\n",
      "        [2, 5, 0],\n",
      "        [2, 5, 0]],\n",
      "\n",
      "       [[2, 5, 0],\n",
      "        [2, 5, 0],\n",
      "        [2, 5, 0],\n",
      "        [2, 5, 0],\n",
      "        [2, 5, 0],\n",
      "        [2, 5, 0],\n",
      "        [2, 5, 0]]], dtype=uint8), 'direction': 1, 'mission': 'get to the green goal square'}\n",
      "Reward: 0\n",
      "Done: False\n",
      "Info: {}\n",
      "Image shape: (256, 256, 3)\n"
     ]
    },
    {
     "data": {
      "image/png": "[encoded data removed]",
      "text/plain": [
       "<Figure size 720x576 with 1 Axes>"
      ]
     },
     "metadata": {
      "needs_background": "light"
     },
     "output_type": "display_data"
    }
   ],
   "source": [
    "################# TODO: YOUR CODE BELOW #############################\n",
    "#################  Each todo here is 1 line of code  ################\n",
    "\n",
    "# 1. Make a new environment MiniGrid-Empty-8x8-v0\n",
    "env = gym.make('MiniGrid-Empty-8x8-v0')\n",
    "\n",
    "# 2. Reset the environment\n",
    "env.reset()\n",
    "\n",
    "# 3. Select the action right\n",
    "action = env.actions.right\n",
    "\n",
    "# 4. Take a step in the environment and store it in appropriate variables\n",
    "obs, reward, done, info = env.step(action)\n",
    "\n",
    "# 5. Render the current state of the environment\n",
    "img = env.render('rgb_array')\n",
    "################# YOUR CODE ENDS HERE ###############################\n",
    "\n",
    "print('Observation:', obs)\n",
    "print('Reward:', reward)\n",
    "print('Done:', done)\n",
    "print('Info:', info)\n",
    "print('Image shape:', img.shape)\n",
    "plt.imshow(img);"
   ]
  },
  {
   "cell_type": "code",
   "execution_count": 8,
   "metadata": {},
   "outputs": [],
   "source": [
    "import base64\n",
    "import glob\n",
    "import io\n",
    "from IPython.display import HTML\n",
    "from IPython import display as ipythondisplay\n",
    "\n",
    "def show_video():\n",
    "    mp4list = glob.glob('video/*.mp4')\n",
    "    if len(mp4list) > 0:\n",
    "        mp4 = mp4list[0]\n",
    "        video = io.open(mp4, 'r+b').read()\n",
    "        encoded = base64.b64encode(video)\n",
    "        ipythondisplay.display(HTML(data='''<video alt=\"test\" autoplay \n",
    "                loop controls style=\"height: 400px;\">\n",
    "                <source src=\"data:video/mp4;base64,{0}\" type=\"video/mp4\" />\n",
    "             </video>'''.format(encoded.decode('ascii'))))\n",
    "    else:\n",
    "        print(\"Could not find video\")"
   ]
  },
  {
   "cell_type": "code",
   "execution_count": 11,
   "metadata": {},
   "outputs": [
    {
     "name": "stdout",
     "output_type": "stream",
     "text": [
      "Observation: [10  0  1  1  0  0  1  0  0  1  0  0  1  0  0  1  0  0  1  0  0  1  0  0\n",
      "  1  0  0  1  0  0  1  0  0  1  0  0  1  0  0  1  0  0  1  0  0  1  0  0\n",
      "  1  0  0  1  0  0  1  0  0  1  0  0  1  0  0  1  0  0  1  0  0  1  0  0\n",
      "  1  0  0  1  0  0  1  0  0  1  0  0  1  0  0  1  0  0  1  0  0  1  0  0\n",
      "  1  0  0  1  0  0  1  0  0  8  1  0] , Observation Shape:  (108,)\n",
      "Reward: 0\n",
      "Done: False\n",
      "Info: {}\n",
      "Image shape: (256, 256, 3)\n"
     ]
    },
    {
     "data": {
      "image/png": "[encoded data removed]",
      "text/plain": [
       "<Figure size 720x576 with 1 Axes>"
      ]
     },
     "metadata": {
      "needs_background": "light"
     },
     "output_type": "display_data"
    }
   ],
   "source": [
    "import gym\n",
    "from gym import spaces\n",
    "from gym_minigrid.minigrid import OBJECT_TO_IDX, COLOR_TO_IDX\n",
    "\n",
    "max_env_steps = 50\n",
    "\n",
    "class FlatObsWrapper(gym.core.ObservationWrapper):\n",
    "    \"\"\"Fully observable gridworld returning a flat grid encoding.\"\"\"\n",
    "\n",
    "    def __init__(self, env):\n",
    "        super().__init__(env)\n",
    "\n",
    "        # Since the outer walls are always present, we remove left, right, top, bottom walls\n",
    "        # from the observation space of the agent. There are 3 channels, but for simplicity\n",
    "        # in this assignment, we will deal with flattened version of state.\n",
    "        \n",
    "        self.observation_space = spaces.Box(\n",
    "            low=0,\n",
    "            high=255,\n",
    "            shape=((self.env.width-2) * (self.env.height-2) * 3,),  # number of cells\n",
    "            dtype='uint8'\n",
    "        )\n",
    "        self.unwrapped.max_steps = max_env_steps\n",
    "\n",
    "    def observation(self, obs):\n",
    "        # this method is called in the step() function to get the observation\n",
    "        # we provide code that gets the grid state and places the agent in it\n",
    "        env = self.unwrapped\n",
    "        full_grid = env.grid.encode()\n",
    "        full_grid[env.agent_pos[0]][env.agent_pos[1]] = np.array([\n",
    "            OBJECT_TO_IDX['agent'],\n",
    "            COLOR_TO_IDX['red'],\n",
    "            env.agent_dir\n",
    "        ])\n",
    "        full_grid = full_grid[1:-1, 1:-1]   # remove outer walls of the environment (for efficiency)\n",
    "        \n",
    "        ############################### TODO: YOUR CODE BELOW ##############################\n",
    "        ### Your code should return a flattened version of the grid.                     ###\n",
    "        ####################################################################################\n",
    "        flattened_grid = full_grid.ravel()\n",
    "        ################################# END OF YOUR CODE #################################\n",
    "        return flattened_grid\n",
    "    \n",
    "    def render(self, *args, **kwargs):\n",
    "        \"\"\"This removes the default visualization of the partially observable field of view.\"\"\"\n",
    "        kwargs['highlight'] = False\n",
    "        return self.unwrapped.render(*args, **kwargs)\n",
    "\n",
    "\n",
    "################# YOUR CODE BELOW ###################################\n",
    "### img, obs, reward, done, info = None, None, None, None, None  ####\n",
    "env = FlatObsWrapper(gym.make('MiniGrid-Empty-8x8-v0'))\n",
    "\n",
    "# 2. Reset the environment\n",
    "env.reset()\n",
    "\n",
    "# 3. Select the action right\n",
    "action = env.actions.right\n",
    "\n",
    "# 4. Take a step in the environment and store it in appropriate variables\n",
    "obs, reward, done, info = env.step(action)\n",
    "\n",
    "# 5. Render the current state of the environment\n",
    "img = env.render('rgb_array')\n",
    "################# YOUR CODE ENDS HERE ###############################\n",
    "\n",
    "print('Observation:', obs, ', Observation Shape: ', obs.shape)\n",
    "print('Reward:', reward)\n",
    "print('Done:', done)\n",
    "print('Info:', info)\n",
    "print('Image shape:', img.shape)\n",
    "plt.imshow(img);"
   ]
  },
  {
   "cell_type": "code",
   "execution_count": 12,
   "metadata": {},
   "outputs": [
    {
     "name": "stdout",
     "output_type": "stream",
     "text": [
      "Total reward: 0\n",
      "Total length: 50\n"
     ]
    },
    {
     "data": {
      "text/html": [
       "<video alt=\"test\" autoplay \n",
       "                loop controls style=\"height: 400px;\">\n",
       "                <source src=\"data:video/mp4;base64,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\" type=\"video/mp4\" />\n",
       "             </video>"
      ],
      "text/plain": [
       "<IPython.core.display.HTML object>"
      ]
     },
     "metadata": {},
     "output_type": "display_data"
    }
   ],
   "source": [
    "from gym.wrappers import Monitor\n",
    "\n",
    "# Monitor is a gym wrapper, which helps easy rendering of videos of the wrapped environment.\n",
    "def wrap_env(env):\n",
    "    env = Monitor(env, './video', force=True)\n",
    "    return env\n",
    "\n",
    "def gen_wrapped_env(env_name):\n",
    "    return wrap_env(FlatObsWrapper(gym.make(env_name)))\n",
    "\n",
    "\n",
    "# Random agent - we only use it in this cell for demonstration\n",
    "class RandPolicy:\n",
    "    def __init__(self, action_space):\n",
    "        self.action_space = action_space\n",
    "        \n",
    "    def act(self, *unused_args):\n",
    "        return self.action_space.sample(), None\n",
    "\n",
    "# This function plots videos of rollouts (episodes) of a given policy and environment\n",
    "def log_policy_rollout(policy, env_name, pytorch_policy=False):\n",
    "    # Create environment with flat observation\n",
    "    env = gen_wrapped_env(env_name)\n",
    "\n",
    "    # Initialize environment\n",
    "    observation = env.reset()\n",
    "\n",
    "    done = False\n",
    "    episode_reward = 0\n",
    "    episode_length = 0\n",
    "\n",
    "    # Run until done == True\n",
    "    while not done:\n",
    "      # Take a step\n",
    "        if pytorch_policy: \n",
    "            observation = torch.tensor(observation, dtype=torch.float32)\n",
    "            action = policy.act(observation)[0].data.cpu().numpy()\n",
    "        else:\n",
    "            action = policy.act(observation)[0]\n",
    "        observation, reward, done, info = env.step(action)\n",
    "\n",
    "        episode_reward += reward\n",
    "        episode_length += 1\n",
    "\n",
    "    print('Total reward:', episode_reward)\n",
    "    print('Total length:', episode_length)\n",
    "\n",
    "    env.close()\n",
    "    \n",
    "    show_video()\n",
    "\n",
    "# Test that the logging function is working\n",
    "test_env_name = 'MiniGrid-Empty-8x8-v0'\n",
    "rand_policy = RandPolicy(FlatObsWrapper(gym.make(test_env_name)).action_space)\n",
    "log_policy_rollout(rand_policy, test_env_name)"
   ]
  },
  {
   "cell_type": "code",
   "execution_count": null,
   "metadata": {},
   "outputs": [],
   "source": []
  }
 ],
 "metadata": {
  "kernelspec": {
   "display_name": "Python 3",
   "language": "python",
   "name": "python3"
  },
  "language_info": {
   "codemirror_mode": {
    "name": "ipython",
    "version": 3
   },
   "file_extension": ".py",
   "mimetype": "text/x-python",
   "name": "python",
   "nbconvert_exporter": "python",
   "pygments_lexer": "ipython3",
   "version": "3.8.3"
  }
 },
 "nbformat": 4,
 "nbformat_minor": 4
}
