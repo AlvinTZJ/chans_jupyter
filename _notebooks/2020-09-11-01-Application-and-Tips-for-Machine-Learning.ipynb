{
 "cells": [
  {
   "cell_type": "markdown",
   "metadata": {},
   "source": [
    "# Application and Tips for Machine Learning\n",
    "> In this post, it will mentioned about the application and tips which can help to implement Machine Learning model. Also we will cover the overfitting problem and solution with example\n",
    "\n",
    "- toc: true \n",
    "- badges: true\n",
    "- comments: true\n",
    "- author: Chanseok Kang\n",
    "- categories: [Python, Tensorflow, Machine_Learning]\n",
    "- image: images/learning_rate.png"
   ]
  },
  {
   "cell_type": "code",
   "execution_count": 1,
   "metadata": {},
   "outputs": [],
   "source": [
    "import tensorflow as tf\n",
    "import numpy as np\n",
    "import matplotlib.pyplot as plt\n",
    "import pandas as pd\n",
    "\n",
    "plt.rcParams['figure.figsize'] = (16, 10)\n",
    "plt.rcParams['text.usetex'] = True\n",
    "plt.rc('font', size=15)"
   ]
  },
  {
   "cell_type": "markdown",
   "metadata": {},
   "source": [
    "## Learning Rate\n",
    "We used Gradient Descent method to find the weight making the cost minimum. Usually, at each step in training, element of weight vector updates its value by the direction of gradient decreasing.\n",
    "\n",
    "$$ \\theta_j := \\theta_j - \\alpha \\frac{\\partial}{\\partial \\theta_j} J(\\theta) $$\n",
    "\n",
    "Here, we can see the constant term, $\\alpha$, also known as **learning rate**. Learning rate is a hyper-parameter that controls how much we are adjusting the weights with respect to the loss gradient. Simply speaking, it is a speed of finding the answer that we want to find. \n",
    "\n",
    "### Good and Bad learning rate\n",
    "\n",
    "![learning_rate](image/learning_rate.png)\n",
    "\n",
    "Suppose the there is an optimal point, we want to find it by searching manually. If the speed is too fast, it may pass the optimal point. Then we need to go back and re-search it. Or maybe we can miss it, and keep going. Sometimes it may occur going forward and backward, repeatedly. If the speed it too slow, then it takes a long time to find it.\n",
    "\n",
    "Actually, there is no answer for optimial learning rate. It may be different on each case and environment, and even if the optimizer may take different learning rate. By andrej karpathy, $3e^4$ is best learning rate for Adam optimzier.\n",
    "\n",
    "### Annealing the learning rate\n",
    "So it is good approach of changing the learning rate per each epoch. It is called **annealing (or decaying) the learning rate**. In the example case we mentioned previously, there is the case that model tries to find the optimal point with going forward and backward repeatedly. If we can change the learning rate in that case, it can avoid to struggling in saddle point, and keep trying to find the point.\n",
    "\n",
    "There are various way to annealing the learning rate:\n",
    "\n",
    "- Step Decay: Decay the rate per each N epochs.\n",
    "- Exponential decay: Decay the rate with exponential function ($\\alpha = \\alpha_0 e^{-kt}$)\n",
    "- ${1 \\over t}$ decay: Decay the rate with fraction ($\\alpha = \\frac{\\alpha_0}{1 + kt}$)"
   ]
  },
  {
   "cell_type": "markdown",
   "metadata": {},
   "source": [
    "## Data Preprocessing\n",
    "When we implement the logistic regression model for [finding diabetes](https://goodboychan.github.io/chans_jupyter/python/tensorflow/machine_learning/2020/09/09/03-Logistic-Regression-Classification.html#Logistic-Regression-with-diabetes-classification), we found out that the scale of each column is different from each other. In this dataset, it is hard to train it cause model understand the value itself. That is, sometime model could learn that large number of value is always good for prediction. And there is the case that the mean and variance is different from each columns. At this case, model may mis-understand the data, and interpret the valid data as an outlier.\n",
    "\n",
    "For this problem, we need to apply method so called **Feature Scaling**. Feature scaling makes the data re-arranging in same standard. There are two common ways for feature scaling:\n",
    "\n",
    "- **Standardization** : If you take the statistic class, maybe you heard about standard normal distribution. And to make normal distribution to standard normal distribution, we calculate the **Z-score** (also known as Standard Score). Throught this, it makes the standard normal distribution with mean of 0 and standard deviation of 1. Same approach can be applied here. If we get dataset, and calculate the Z-score, we can make dataset to standard distribution. So here is how to calculate Z-score,\n",
    "\n",
    "$$ x_{new} = \\frac{x - \\mu}{\\sigma} $$\n",
    "\n",
    "- **Normalization** : Unlike Standardization, Normalization makes the dataset to have some finite range. such as 0 and 1. To do this, we consider the maximum value of dataset to be 1, and the minimum value of dataset to be 0. And calculate the ratio between the measured point and minimum value. So it is also called **Min-Max Scaling**.\n",
    "\n",
    "$$ x_{new} = \\frac{x - x_{min}}{x_{max} - x_{min}} $$\n"
   ]
  },
  {
   "cell_type": "markdown",
   "metadata": {},
   "source": [
    "## Overfitting\n",
    "Usually, the learning process with updating weight and bias is called **fit**. So training is also called **fit the model**. So what does it mean of **overfitting**?\n",
    "\n",
    "If we train the model with given data, we can see that the model is well-trained by monitoring the cost or loss on each epochs. The problem is that what if we input the unknown data to the trained model. Does it work? Actually, we don't know any information about unknown data, the mean, standard deviation, etc. Maybe it contains lots of outliers the model doesn't see while training. \n",
    "\n",
    "As a result, well-performed model must work well on not only training data, but also the unknown data. And that's why we separate the training dataset and test dataset in the data preprocessing step.\n",
    "\n",
    "![overfit_underfit](image/overfit_underfit.png)\n",
    "\n",
    "Overfitting and underfitting is the problem we explained about. Overfitting is the situation that model works well on training dataset, but worst performance on test dataset. Usually, someone mentioned about **high variance**. In statistical view, high variance means that the model (or estimator) varies a lot depending on the data you get. And it occurs while the model has various of dependent variable.\n",
    "\n",
    "Underfitting is the situation that model doesn't work well on training dataset. It has **high bias** since the model doesn't have ability to handle the difference of dataset, and underfitting model have low number of dependent variables.\n",
    "\n",
    "So, to avoid the overfitting or underfitting, we need to control the number of dependent variables. Actually, the most effective way to handle both is to get more training data containing variety. But you know that it takes too much cost, and the amount of dataset is not infinite. Second approach is to apply Principle Component Analysis (PCA for short). PCA is one of unsupervised learning method for dimensionality reduction. Through this, we can reduce the number of features (of course, PCA selects the component which mainly affect the data distribution.) for handling high variance. If we suffered from underfitting, then we can add another features.\n",
    "\n",
    "Another way is to add regularization term for loss. Consider about the hypothesis and cost function for linear regression.\n",
    "\n",
    "$$ H_{\\theta}(x) = \\theta_0 + \\theta_1 x + \\theta_2 x^2 + \\dots \\\\\n",
    " J(\\theta) = {1 \\over 2m} \\sum_{i=1}^m (H_{\\theta}(x_i) - y_i)^2 $$\n",
    "\n",
    "We can the additional term for express the weight vector information to the cost function. So it modifies like this,\n",
    "\n",
    "$$ J(\\theta) = {1 \\over 2m} \\sum_{i=1}^m (H_{\\theta}(x_i) - y_i)^2 + {\\lambda \\over 2m} \\sum_{j=1}^m \\theta_j^2 $$\n",
    "\n",
    "Upper case is the example of L2 loss (squared error) with L2 regularization. If you want to use L1 loss (absolute error) with L1 regularization, you can express like this.\n",
    "\n",
    "$$ J(\\theta) = {1 \\over m} \\sum_{i=1}^m \\vert H_{\\theta}(x_i) - y_i \\vert + {\\lambda \\over m} \\sum_{j=1}^m \\vert \\theta_j \\vert $$\n",
    "\n",
    "It's up to you what you choose for lost function and regularization term.\n",
    "\n",
    "There is another way like data augmentation, dropout, and so on. Again, there is no optimal way to handle overfitting and underfitting. You need to try it with some feature, and tune the model based on error."
   ]
  },
  {
   "cell_type": "markdown",
   "metadata": {},
   "source": [
    "Work In Progress.."
   ]
  }
 ],
 "metadata": {
  "kernelspec": {
   "display_name": "Python 3",
   "language": "python",
   "name": "python3"
  },
  "language_info": {
   "codemirror_mode": {
    "name": "ipython",
    "version": 3
   },
   "file_extension": ".py",
   "mimetype": "text/x-python",
   "name": "python",
   "nbconvert_exporter": "python",
   "pygments_lexer": "ipython3",
   "version": "3.7.6"
  }
 },
 "nbformat": 4,
 "nbformat_minor": 4
}
